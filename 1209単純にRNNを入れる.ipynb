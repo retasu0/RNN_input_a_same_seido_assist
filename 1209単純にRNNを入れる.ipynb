{
 "cells": [
  {
   "cell_type": "markdown",
   "source": [
    "            pred_z_value = 3.0 * student_ability - question_difficulty - skill_difficulty\n",
    "            if \"RNN\" in self.args.message:\n",
    "                rnn_hidden_size = 128\n",
    "                self.rnn_cell = tf.contrib.rnn.BasicRNNCell(num_units=rnn_hidden_size)\n",
    "\n",
    "                rnn_cell = tf.contrib.rnn.DropoutWrapper(\n",
    "                    self.rnn_cell, output_keep_prob=0.95)\n",
    "\n",
    "                # state = self.rnn_cell.zero_state(self.args.batch_size, tf.float32)\n",
    "                state = rnn_cell.zero_state(self.args.batch_size, tf.float32)\n",
    "\n",
    "                self.weight = tf.Variable(tf.random_normal([rnn_hidden_size, 1]))\n",
    "                self.bias = tf.Variable(tf.random_normal([1]))\n",
    "\n",
    "                # output, state = self.rnn_cell(tmp, state)\n",
    "                output, state = rnn_cell(q, state)\n",
    "\n",
    "                pred_z_value + output\n",
    "\n",
    "このような部分を用いてRNNを導入。エンベディングはqの物を流用"
   ],
   "metadata": {
    "collapsed": false
   }
  },
  {
   "cell_type": "code",
   "execution_count": null,
   "outputs": [],
   "source": [
    "!python main.py --dataset assist2009_akt --gpu_num 1 --message RNN"
   ],
   "metadata": {
    "collapsed": false,
    "pycharm": {
     "name": "#%%\n"
    }
   }
  },
  {
   "cell_type": "code",
   "execution_count": null,
   "metadata": {
    "collapsed": true
   },
   "outputs": [],
   "source": [
    "!python main.py --dataset assist2017_akt --gpu_num 1 --message RNN"
   ]
  },
  {
   "cell_type": "code",
   "execution_count": null,
   "outputs": [],
   "source": [
    "!python main.py --dataset Eedi --gpu_num 1 --message RNN"
   ],
   "metadata": {
    "collapsed": false,
    "pycharm": {
     "name": "#%%\n"
    }
   }
  }
 ],
 "metadata": {
  "kernelspec": {
   "display_name": "Python 3",
   "language": "python",
   "name": "python3"
  },
  "language_info": {
   "codemirror_mode": {
    "name": "ipython",
    "version": 2
   },
   "file_extension": ".py",
   "mimetype": "text/x-python",
   "name": "python",
   "nbconvert_exporter": "python",
   "pygments_lexer": "ipython2",
   "version": "2.7.6"
  }
 },
 "nbformat": 4,
 "nbformat_minor": 0
}
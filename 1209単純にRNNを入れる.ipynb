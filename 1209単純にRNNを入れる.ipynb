{
 "cells": [
  {
   "cell_type": "markdown",
   "source": [
    "            pred_z_value = 3.0 * student_ability - question_difficulty - skill_difficulty\n",
    "            if \"RNN\" in self.args.message:\n",
    "                rnn_hidden_size = 128\n",
    "                self.rnn_cell = tf.contrib.rnn.BasicRNNCell(num_units=rnn_hidden_size)\n",
    "\n",
    "                rnn_cell = tf.contrib.rnn.DropoutWrapper(\n",
    "                    self.rnn_cell, output_keep_prob=0.95)\n",
    "\n",
    "                # state = self.rnn_cell.zero_state(self.args.batch_size, tf.float32)\n",
    "                state = rnn_cell.zero_state(self.args.batch_size, tf.float32)\n",
    "\n",
    "                self.weight = tf.Variable(tf.random_normal([rnn_hidden_size, 1]))\n",
    "                self.bias = tf.Variable(tf.random_normal([1]))\n",
    "\n",
    "                # output, state = self.rnn_cell(tmp, state)\n",
    "                output, state = rnn_cell(q, state)\n",
    "\n",
    "                pred_z_value + output\n",
    "\n",
    "このような部分を用いてRNNを導入。エンベディングはqの物を流用"
   ],
   "metadata": {
    "collapsed": false
   }
  },
  {
   "cell_type": "code",
   "execution_count": 1,
   "outputs": [
    {
     "name": "stderr",
     "output_type": "stream",
     "text": [
      "C:\\Users\\retasu\\anaconda3\\envs\\tutumi_kaku_jikken2\\lib\\site-packages\\tensorflow\\python\\framework\\dtypes.py:526: FutureWarning: Passing (type, 1) or '1type' as a synonym of type is deprecated; in a future version of numpy, it will be understood as (type, (1,)) / '(1,)type'.\n",
      "  _np_qint8 = np.dtype([(\"qint8\", np.int8, 1)])\n",
      "C:\\Users\\retasu\\anaconda3\\envs\\tutumi_kaku_jikken2\\lib\\site-packages\\tensorflow\\python\\framework\\dtypes.py:527: FutureWarning: Passing (type, 1) or '1type' as a synonym of type is deprecated; in a future version of numpy, it will be understood as (type, (1,)) / '(1,)type'.\n",
      "  _np_quint8 = np.dtype([(\"quint8\", np.uint8, 1)])\n",
      "C:\\Users\\retasu\\anaconda3\\envs\\tutumi_kaku_jikken2\\lib\\site-packages\\tensorflow\\python\\framework\\dtypes.py:528: FutureWarning: Passing (type, 1) or '1type' as a synonym of type is deprecated; in a future version of numpy, it will be understood as (type, (1,)) / '(1,)type'.\n",
      "  _np_qint16 = np.dtype([(\"qint16\", np.int16, 1)])\n",
      "C:\\Users\\retasu\\anaconda3\\envs\\tutumi_kaku_jikken2\\lib\\site-packages\\tensorflow\\python\\framework\\dtypes.py:529: FutureWarning: Passing (type, 1) or '1type' as a synonym of type is deprecated; in a future version of numpy, it will be understood as (type, (1,)) / '(1,)type'.\n",
      "  _np_quint16 = np.dtype([(\"quint16\", np.uint16, 1)])\n",
      "C:\\Users\\retasu\\anaconda3\\envs\\tutumi_kaku_jikken2\\lib\\site-packages\\tensorflow\\python\\framework\\dtypes.py:530: FutureWarning: Passing (type, 1) or '1type' as a synonym of type is deprecated; in a future version of numpy, it will be understood as (type, (1,)) / '(1,)type'.\n",
      "  _np_qint32 = np.dtype([(\"qint32\", np.int32, 1)])\n",
      "C:\\Users\\retasu\\anaconda3\\envs\\tutumi_kaku_jikken2\\lib\\site-packages\\tensorflow\\python\\framework\\dtypes.py:535: FutureWarning: Passing (type, 1) or '1type' as a synonym of type is deprecated; in a future version of numpy, it will be understood as (type, (1,)) / '(1,)type'.\n",
      "  np_resource = np.dtype([(\"resource\", np.ubyte, 1)])\n",
      "2022-12-09 12:59:25,756 - Deep-IRT-model-HN - INFO - Model Config: Namespace(batch_size=32, checkpoint_dir='./models\\\\assist2009_akt\\\\b32_m50_q50_qa100_f50\\\\2022-12-09T1259', cpu=False, data_dir='./data/assist2009_akt', data_name='assist2009_pid', dataset='assist2009_akt', delta_1=1.5, delta_2=1.5, gpu_num='0', key_memory_state_dim=50, learning_rate=0.003, max_grad_norm=10.0, memory_size=50, mode='both', n_epochs=50, n_questions=16891, n_skills=110, num_pattern=1, result_log_dir='./results\\\\assist2009_akt\\\\b32_m50_q50_qa100_f50\\\\2022-12-09T1259', retasu_message='RNN', rounds=4, save=True, seq_len=200, show=True, summary_vector_output_dim=50, tensorboard_dir='./tensorboard\\\\assist2009_akt\\\\b32_m50_q50_qa100_f50\\\\2022-12-09T1259', train=True, use_ogive_model=False, value_memory_state_dim=100)\n",
      "2022-12-09 12:59:25,758 - Deep-IRT-model-HN - INFO - Cross Validation 1\n",
      "2022-12-09 12:59:26,085 - Deep-IRT-model-HN - INFO - Initializing Placeholder\n",
      "2022-12-09 12:59:26,088 - Deep-IRT-model-HN - INFO - Initializing Key and Value Memory\n",
      "2022-12-09 12:59:26,103 - Deep-IRT-model-HN - INFO - Initializing Q and QA Embedding\n",
      "2022-12-09 12:59:26,122 - Deep-IRT-model-HN - INFO - Initializing Embedding Lookup\n",
      "2022-12-09 12:59:26,134 - Deep-IRT-model-HN - INFO - Initializing Influence Procedure\n",
      "2022-12-09 12:59:40,342 - Deep-IRT-model-HN - INFO - Initializing Loss Function\n",
      "2022-12-09 13:02:07,002 - Deep-IRT-model-HN - INFO - Memory/key_memory_matrix:0 (float32_ref 50x50) [2500, bytes: 10000]\n",
      "Memory/value_memory_matrix:0 (float32_ref 50x100) [5000, bytes: 20000]\n",
      "Embedding/s_embed:0 (float32_ref 111x50) [5550, bytes: 22200]\n",
      "Embedding/q_embed:0 (float32_ref 16892x50) [844600, bytes: 3378400]\n",
      "Embedding/qa_embed:0 (float32_ref 221x100) [22100, bytes: 88400]\n",
      "DKVMN-ValueHead/con_preoperation/weights:0 (float32_ref 200x100) [20000, bytes: 80000]\n",
      "DKVMN-ValueHead/con_preoperation/biases:0 (float32_ref 100) [100, bytes: 400]\n",
      "fm_0/kernelmogrifer:0 (float32_ref 1600x32) [51200, bytes: 204800]\n",
      "fm_0/biasmogreifer:0 (float32_ref 32) [32, bytes: 128]\n",
      "fm_1/kernelmogrifer:0 (float32_ref 100x100) [10000, bytes: 40000]\n",
      "fm_1/biasmogreifer:0 (float32_ref 100) [100, bytes: 400]\n",
      "fm_2/kernelmogrifer:0 (float32_ref 1600x32) [51200, bytes: 204800]\n",
      "fm_2/biasmogreifer:0 (float32_ref 32) [32, bytes: 128]\n",
      "fm_3/kernelmogrifer:0 (float32_ref 100x100) [10000, bytes: 40000]\n",
      "fm_3/biasmogreifer:0 (float32_ref 100) [100, bytes: 400]\n",
      "DKVMN-ValueHead/EraseOperation/kernelmogrifer1:0 (float32_ref 100x100) [10000, bytes: 40000]\n",
      "DKVMN-ValueHead/EraseOperation/kernelmogrifer2:0 (float32_ref 5000x100) [500000, bytes: 2000000]\n",
      "DKVMN-ValueHead/EraseOperation/biasmogreifer:0 (float32_ref 100) [100, bytes: 400]\n",
      "DKVMN-ValueHead/ZtOperation/kernelmogrifer1:0 (float32_ref 100x100) [10000, bytes: 40000]\n",
      "DKVMN-ValueHead/ZtOperation/kernelmogrifer2:0 (float32_ref 5000x100) [500000, bytes: 2000000]\n",
      "DKVMN-ValueHead/ZtOperation/biasmogreifer:0 (float32_ref 100) [100, bytes: 400]\n",
      "DKVMN-ValueHead/AddOperation/kernelmogrifer1:0 (float32_ref 5000x100) [500000, bytes: 2000000]\n",
      "DKVMN-ValueHead/AddOperation/kernelmogrifer2:0 (float32_ref 100x100) [10000, bytes: 40000]\n",
      "DKVMN-ValueHead/AddOperation/biasmogreifer:0 (float32_ref 100) [100, bytes: 400]\n",
      "StudentAbilityOutputLayer1/weights:0 (float32_ref 100x50) [5000, bytes: 20000]\n",
      "StudentAbilityOutputLayer1/biases:0 (float32_ref 50) [50, bytes: 200]\n",
      "QuestionDifficultyOutputLayer1/weights:0 (float32_ref 50x50) [2500, bytes: 10000]\n",
      "QuestionDifficultyOutputLayer1/biases:0 (float32_ref 50) [50, bytes: 200]\n",
      "QuestionDifficultyOutputLayer/weights:0 (float32_ref 50x1) [50, bytes: 200]\n",
      "QuestionDifficultyOutputLayer/biases:0 (float32_ref 1) [1, bytes: 4]\n",
      "QuestionskillDifficultyOutputLayer1/weights:0 (float32_ref 50x50) [2500, bytes: 10000]\n",
      "QuestionskillDifficultyOutputLayer1/biases:0 (float32_ref 50) [50, bytes: 200]\n",
      "QuestionskillDifficultyOutputLayer/weights:0 (float32_ref 50x1) [50, bytes: 200]\n",
      "QuestionskillDifficultyOutputLayer/biases:0 (float32_ref 1) [1, bytes: 4]\n",
      "Total size of variables: 2563066 \n",
      "Total bytes of variables: 10252264 \n",
      "\n",
      "2022-12-09 13:02:09,686 - Deep-IRT-model-HN - INFO - Reading ./data/assist2009_akt\\assist2009_pid_train1.csv and ./data/assist2009_akt\\assist2009_pid_valid1.csv\n",
      "2022-12-09 13:03:46,682 - Deep-IRT-model-HN - INFO - \n",
      "[Epoch 1/50] Training result:      AUC: 73.98%\t Acc: 72.31%\t Loss: 6.3765%\t F1: 47.86　81.15\n",
      "[Epoch 1/50] Validation result:    AUC: 78.41%\t Acc: 75.32%\t Loss: 5.6831%\t F1: 55.86　82.87\n",
      "[Epoch 1/50] Test result:    AUC: 78.72%\t Acc: 74.17%\t Loss: 5.9470\n",
      "2022-12-09 13:03:46,683 - Deep-IRT-model-HN - INFO - Model improved. Save model to ./models\\assist2009_akt\\b32_m50_q50_qa100_f50\\2022-12-09T1259\\ep001-auc78-acc75\\Deep-IRT-HN\\.ckpt\n",
      "2022-12-09 13:04:29,920 - Deep-IRT-model-HN - INFO - \n",
      "[Epoch 2/50] Training result:      AUC: 82.24%\t Acc: 77.23%\t Loss: 5.2419%\t F1: 62.27　83.70\n",
      "[Epoch 2/50] Validation result:    AUC: 79.77%\t Acc: 75.99%\t Loss: 5.5287%\t F1: 60.89　82.68\n",
      "[Epoch 2/50] Test result:    AUC: 79.75%\t Acc: 74.88%\t Loss: 5.7841\n",
      "2022-12-09 13:05:12,323 - Deep-IRT-model-HN - INFO - \n",
      "[Epoch 3/50] Training result:      AUC: 84.50%\t Acc: 78.58%\t Loss: 4.9322%\t F1: 64.82　84.60\n",
      "[Epoch 3/50] Validation result:    AUC: 80.64%\t Acc: 76.46%\t Loss: 5.4209%\t F1: 61.56　83.03\n",
      "[Epoch 3/50] Test result:    AUC: 80.49%\t Acc: 75.26%\t Loss: 5.6971\n",
      "2022-12-09 13:05:12,323 - Deep-IRT-model-HN - INFO - Model improved. Save model to ./models\\assist2009_akt\\b32_m50_q50_qa100_f50\\2022-12-09T1259\\ep003-auc81-acc76\\Deep-IRT-HN\\.ckpt\n",
      "2022-12-09 13:05:56,385 - Deep-IRT-model-HN - INFO - \n",
      "[Epoch 4/50] Training result:      AUC: 85.42%\t Acc: 79.13%\t Loss: 4.8059%\t F1: 65.80　84.98\n",
      "[Epoch 4/50] Validation result:    AUC: 80.73%\t Acc: 76.86%\t Loss: 5.3291%\t F1: 60.11　83.70\n",
      "[Epoch 4/50] Test result:    AUC: 80.70%\t Acc: 75.51%\t Loss: 5.6390\n",
      "2022-12-09 13:05:56,386 - Deep-IRT-model-HN - INFO - Model improved. Save model to ./models\\assist2009_akt\\b32_m50_q50_qa100_f50\\2022-12-09T1259\\ep004-auc81-acc77\\Deep-IRT-HN\\.ckpt\n",
      "2022-12-09 13:06:39,296 - Deep-IRT-model-HN - INFO - \n",
      "[Epoch 5/50] Training result:      AUC: 86.13%\t Acc: 79.61%\t Loss: 4.6957%\t F1: 66.68　85.31\n",
      "[Epoch 5/50] Validation result:    AUC: 80.89%\t Acc: 76.87%\t Loss: 5.3268%\t F1: 60.74　83.60\n",
      "[Epoch 5/50] Test result:    AUC: 80.92%\t Acc: 75.70%\t Loss: 5.5941\n",
      "2022-12-09 13:06:39,302 - Deep-IRT-model-HN - INFO - Model improved. Save model to ./models\\assist2009_akt\\b32_m50_q50_qa100_f50\\2022-12-09T1259\\ep005-auc81-acc77\\Deep-IRT-HN\\.ckpt\n",
      "2022-12-09 13:07:20,785 - Deep-IRT-model-HN - INFO - \n",
      "[Epoch 6/50] Training result:      AUC: 86.44%\t Acc: 79.76%\t Loss: 4.6597%\t F1: 66.89　85.43\n",
      "[Epoch 6/50] Validation result:    AUC: 81.09%\t Acc: 76.87%\t Loss: 5.3264%\t F1: 60.88　83.58\n",
      "[Epoch 6/50] Test result:    AUC: 81.33%\t Acc: 75.88%\t Loss: 5.5531\n",
      "2022-12-09 13:07:20,786 - Deep-IRT-model-HN - INFO - Model improved. Save model to ./models\\assist2009_akt\\b32_m50_q50_qa100_f50\\2022-12-09T1259\\ep006-auc81-acc77\\Deep-IRT-HN\\.ckpt\n",
      "2022-12-09 13:08:02,295 - Deep-IRT-model-HN - INFO - \n",
      "[Epoch 7/50] Training result:      AUC: 86.65%\t Acc: 79.90%\t Loss: 4.6280%\t F1: 67.15　85.52\n",
      "[Epoch 7/50] Validation result:    AUC: 81.55%\t Acc: 77.18%\t Loss: 5.2551%\t F1: 61.74　83.74\n",
      "[Epoch 7/50] Test result:    AUC: 81.44%\t Acc: 76.08%\t Loss: 5.5083\n",
      "2022-12-09 13:08:02,296 - Deep-IRT-model-HN - INFO - Model improved. Save model to ./models\\assist2009_akt\\b32_m50_q50_qa100_f50\\2022-12-09T1259\\ep007-auc82-acc77\\Deep-IRT-HN\\.ckpt\n",
      "2022-12-09 13:08:44,169 - Deep-IRT-model-HN - INFO - \n",
      "[Epoch 8/50] Training result:      AUC: 87.06%\t Acc: 80.19%\t Loss: 4.5615%\t F1: 67.74　85.71\n",
      "[Epoch 8/50] Validation result:    AUC: 81.58%\t Acc: 77.02%\t Loss: 5.2915%\t F1: 60.50　83.80\n",
      "[Epoch 8/50] Test result:    AUC: 81.71%\t Acc: 76.22%\t Loss: 5.4761\n",
      "2022-12-09 13:08:44,170 - Deep-IRT-model-HN - INFO - Model improved. Save model to ./models\\assist2009_akt\\b32_m50_q50_qa100_f50\\2022-12-09T1259\\ep008-auc82-acc77\\Deep-IRT-HN\\.ckpt\n",
      "2022-12-09 13:09:26,988 - Deep-IRT-model-HN - INFO - \n",
      "[Epoch 9/50] Training result:      AUC: 87.34%\t Acc: 80.51%\t Loss: 4.4884%\t F1: 68.24　85.94\n",
      "[Epoch 9/50] Validation result:    AUC: 81.46%\t Acc: 77.12%\t Loss: 5.2676%\t F1: 61.94　83.65\n",
      "[Epoch 9/50] Test result:    AUC: 81.57%\t Acc: 76.07%\t Loss: 5.5110\n",
      "2022-12-09 13:10:07,225 - Deep-IRT-model-HN - INFO - \n",
      "[Epoch 10/50] Training result:      AUC: 87.62%\t Acc: 80.63%\t Loss: 4.4600%\t F1: 68.52　86.01\n",
      "[Epoch 10/50] Validation result:    AUC: 81.53%\t Acc: 77.21%\t Loss: 5.2475%\t F1: 60.36　84.01\n",
      "[Epoch 10/50] Test result:    AUC: 81.68%\t Acc: 76.20%\t Loss: 5.4804\n",
      "2022-12-09 13:10:48,614 - Deep-IRT-model-HN - INFO - \n",
      "[Epoch 11/50] Training result:      AUC: 87.76%\t Acc: 80.74%\t Loss: 4.4342%\t F1: 68.80　86.07\n",
      "[Epoch 11/50] Validation result:    AUC: 81.76%\t Acc: 77.26%\t Loss: 5.2350%\t F1: 61.21　83.92\n",
      "[Epoch 11/50] Test result:    AUC: 81.95%\t Acc: 76.34%\t Loss: 5.4483\n",
      "2022-12-09 13:10:48,614 - Deep-IRT-model-HN - INFO - Model improved. Save model to ./models\\assist2009_akt\\b32_m50_q50_qa100_f50\\2022-12-09T1259\\ep011-auc82-acc77\\Deep-IRT-HN\\.ckpt\n",
      "2022-12-09 13:11:31,404 - Deep-IRT-model-HN - INFO - \n",
      "[Epoch 12/50] Training result:      AUC: 87.89%\t Acc: 80.83%\t Loss: 4.4138%\t F1: 68.98　86.13\n",
      "[Epoch 12/50] Validation result:    AUC: 81.81%\t Acc: 77.35%\t Loss: 5.2148%\t F1: 62.18　83.84\n",
      "[Epoch 12/50] Test result:    AUC: 81.99%\t Acc: 76.53%\t Loss: 5.4042\n",
      "2022-12-09 13:11:31,405 - Deep-IRT-model-HN - INFO - Model improved. Save model to ./models\\assist2009_akt\\b32_m50_q50_qa100_f50\\2022-12-09T1259\\ep012-auc82-acc77\\Deep-IRT-HN\\.ckpt\n",
      "2022-12-09 13:12:12,974 - Deep-IRT-model-HN - INFO - \n",
      "[Epoch 13/50] Training result:      AUC: 88.14%\t Acc: 81.10%\t Loss: 4.3507%\t F1: 69.40　86.33\n",
      "[Epoch 13/50] Validation result:    AUC: 81.67%\t Acc: 77.14%\t Loss: 5.2642%\t F1: 61.96　83.66\n",
      "[Epoch 13/50] Test result:    AUC: 81.78%\t Acc: 76.25%\t Loss: 5.4676\n",
      "2022-12-09 13:12:55,591 - Deep-IRT-model-HN - INFO - \n",
      "[Epoch 14/50] Training result:      AUC: 88.24%\t Acc: 81.07%\t Loss: 4.3577%\t F1: 69.42　86.30\n",
      "[Epoch 14/50] Validation result:    AUC: 81.85%\t Acc: 77.25%\t Loss: 5.2372%\t F1: 62.54　83.67\n",
      "[Epoch 14/50] Test result:    AUC: 81.94%\t Acc: 76.39%\t Loss: 5.4363\n",
      "2022-12-09 13:12:55,592 - Deep-IRT-model-HN - INFO - Model improved. Save model to ./models\\assist2009_akt\\b32_m50_q50_qa100_f50\\2022-12-09T1259\\ep014-auc82-acc77\\Deep-IRT-HN\\.ckpt\n",
      "2022-12-09 13:13:38,038 - Deep-IRT-model-HN - INFO - \n",
      "[Epoch 15/50] Training result:      AUC: 88.36%\t Acc: 81.20%\t Loss: 4.3296%\t F1: 69.56　86.40\n",
      "[Epoch 15/50] Validation result:    AUC: 82.06%\t Acc: 77.34%\t Loss: 5.2175%\t F1: 62.61　83.74\n",
      "[Epoch 15/50] Test result:    AUC: 82.20%\t Acc: 76.48%\t Loss: 5.4158\n",
      "2022-12-09 13:13:38,039 - Deep-IRT-model-HN - INFO - Model improved. Save model to ./models\\assist2009_akt\\b32_m50_q50_qa100_f50\\2022-12-09T1259\\ep015-auc82-acc77\\Deep-IRT-HN\\.ckpt\n",
      "2022-12-09 13:14:19,830 - Deep-IRT-model-HN - INFO - \n",
      "[Epoch 16/50] Training result:      AUC: 88.47%\t Acc: 81.31%\t Loss: 4.3028%\t F1: 69.85　86.46\n",
      "[Epoch 16/50] Validation result:    AUC: 81.99%\t Acc: 77.13%\t Loss: 5.2661%\t F1: 63.91　83.26\n",
      "[Epoch 16/50] Test result:    AUC: 82.09%\t Acc: 76.28%\t Loss: 5.4626\n",
      "2022-12-09 13:15:01,829 - Deep-IRT-model-HN - INFO - \n",
      "[Epoch 17/50] Training result:      AUC: 88.60%\t Acc: 81.41%\t Loss: 4.2795%\t F1: 70.05　86.53\n",
      "[Epoch 17/50] Validation result:    AUC: 81.88%\t Acc: 77.28%\t Loss: 5.2312%\t F1: 62.60　83.69\n",
      "[Epoch 17/50] Test result:    AUC: 82.06%\t Acc: 76.42%\t Loss: 5.4305\n",
      "2022-12-09 13:15:44,942 - Deep-IRT-model-HN - INFO - \n",
      "[Epoch 18/50] Training result:      AUC: 88.36%\t Acc: 81.26%\t Loss: 4.3140%\t F1: 69.72　86.44\n",
      "[Epoch 18/50] Validation result:    AUC: 82.05%\t Acc: 77.48%\t Loss: 5.1860%\t F1: 61.33　84.11\n",
      "[Epoch 18/50] Test result:    AUC: 82.22%\t Acc: 76.61%\t Loss: 5.3852\n",
      "2022-12-09 13:16:25,731 - Deep-IRT-model-HN - INFO - \n",
      "[Epoch 19/50] Training result:      AUC: 88.58%\t Acc: 81.39%\t Loss: 4.2850%\t F1: 69.92　86.53\n",
      "[Epoch 19/50] Validation result:    AUC: 82.18%\t Acc: 77.29%\t Loss: 5.2296%\t F1: 63.09　83.60\n",
      "[Epoch 19/50] Test result:    AUC: 82.21%\t Acc: 76.51%\t Loss: 5.4080\n",
      "2022-12-09 13:16:25,732 - Deep-IRT-model-HN - INFO - Model improved. Save model to ./models\\assist2009_akt\\b32_m50_q50_qa100_f50\\2022-12-09T1259\\ep019-auc82-acc77\\Deep-IRT-HN\\.ckpt\n",
      "2022-12-09 13:17:08,956 - Deep-IRT-model-HN - INFO - \n",
      "[Epoch 20/50] Training result:      AUC: 88.80%\t Acc: 81.62%\t Loss: 4.2312%\t F1: 70.37　86.68\n",
      "[Epoch 20/50] Validation result:    AUC: 81.82%\t Acc: 77.43%\t Loss: 5.1970%\t F1: 62.05　83.94\n",
      "[Epoch 20/50] Test result:    AUC: 81.93%\t Acc: 76.45%\t Loss: 5.4227\n",
      "2022-12-09 13:17:51,466 - Deep-IRT-model-HN - INFO - \n",
      "[Epoch 21/50] Training result:      AUC: 88.98%\t Acc: 81.75%\t Loss: 4.2023%\t F1: 70.67　86.75\n",
      "[Epoch 21/50] Validation result:    AUC: 81.84%\t Acc: 77.35%\t Loss: 5.2148%\t F1: 61.29　83.99\n",
      "[Epoch 21/50] Test result:    AUC: 82.00%\t Acc: 76.43%\t Loss: 5.4270\n",
      "2022-12-09 13:18:34,416 - Deep-IRT-model-HN - INFO - \n",
      "[Epoch 22/50] Training result:      AUC: 89.12%\t Acc: 81.90%\t Loss: 4.1670%\t F1: 70.88　86.87\n",
      "[Epoch 22/50] Validation result:    AUC: 81.80%\t Acc: 77.08%\t Loss: 5.2786%\t F1: 63.60　83.27\n",
      "[Epoch 22/50] Test result:    AUC: 81.84%\t Acc: 76.16%\t Loss: 5.4905\n",
      "2022-12-09 13:19:17,558 - Deep-IRT-model-HN - INFO - \n",
      "[Epoch 23/50] Training result:      AUC: 89.09%\t Acc: 81.90%\t Loss: 4.1675%\t F1: 70.96　86.85\n",
      "[Epoch 23/50] Validation result:    AUC: 81.79%\t Acc: 77.15%\t Loss: 5.2615%\t F1: 62.92　83.49\n",
      "[Epoch 23/50] Test result:    AUC: 81.79%\t Acc: 76.24%\t Loss: 5.4699\n",
      "2022-12-09 13:19:59,463 - Deep-IRT-model-HN - INFO - \n",
      "[Epoch 24/50] Training result:      AUC: 89.30%\t Acc: 82.02%\t Loss: 4.1399%\t F1: 71.19　86.93\n",
      "[Epoch 24/50] Validation result:    AUC: 81.99%\t Acc: 77.37%\t Loss: 5.2118%\t F1: 61.92　83.90\n",
      "[Epoch 24/50] Test result:    AUC: 82.13%\t Acc: 76.45%\t Loss: 5.4227\n",
      "2022-12-09 13:20:41,839 - Deep-IRT-model-HN - INFO - \n",
      "[Epoch 25/50] Training result:      AUC: 89.28%\t Acc: 81.93%\t Loss: 4.1613%\t F1: 71.00　86.87\n",
      "[Epoch 25/50] Validation result:    AUC: 81.98%\t Acc: 77.59%\t Loss: 5.1602%\t F1: 62.76　83.97\n",
      "[Epoch 25/50] Test result:    AUC: 82.07%\t Acc: 76.44%\t Loss: 5.4243\n",
      "2022-12-09 13:21:24,801 - Deep-IRT-model-HN - INFO - \n",
      "[Epoch 26/50] Training result:      AUC: 89.47%\t Acc: 82.20%\t Loss: 4.0977%\t F1: 71.46　87.07\n",
      "[Epoch 26/50] Validation result:    AUC: 81.76%\t Acc: 77.33%\t Loss: 5.2190%\t F1: 62.36　83.78\n",
      "[Epoch 26/50] Test result:    AUC: 81.85%\t Acc: 76.33%\t Loss: 5.4498\n",
      "2022-12-09 13:22:07,624 - Deep-IRT-model-HN - INFO - \n",
      "[Epoch 27/50] Training result:      AUC: 89.46%\t Acc: 82.17%\t Loss: 4.1048%\t F1: 71.43　87.05\n",
      "[Epoch 27/50] Validation result:    AUC: 81.75%\t Acc: 77.26%\t Loss: 5.2350%\t F1: 62.50　83.69\n",
      "[Epoch 27/50] Test result:    AUC: 81.90%\t Acc: 76.40%\t Loss: 5.4351\n",
      "2022-12-09 13:22:51,324 - Deep-IRT-model-HN - INFO - \n",
      "[Epoch 28/50] Training result:      AUC: 89.68%\t Acc: 82.41%\t Loss: 4.0496%\t F1: 71.93　87.19\n",
      "[Epoch 28/50] Validation result:    AUC: 81.97%\t Acc: 77.50%\t Loss: 5.1803%\t F1: 62.09　84.01\n",
      "[Epoch 28/50] Test result:    AUC: 81.95%\t Acc: 76.47%\t Loss: 5.4185\n",
      "2022-12-09 13:23:34,117 - Deep-IRT-model-HN - INFO - \n",
      "[Epoch 29/50] Training result:      AUC: 89.72%\t Acc: 82.42%\t Loss: 4.0475%\t F1: 71.88　87.22\n",
      "[Epoch 29/50] Validation result:    AUC: 81.58%\t Acc: 77.25%\t Loss: 5.2391%\t F1: 61.91　83.78\n",
      "[Epoch 29/50] Test result:    AUC: 81.75%\t Acc: 76.20%\t Loss: 5.4804\n",
      "2022-12-09 13:24:17,139 - Deep-IRT-model-HN - INFO - \n",
      "[Epoch 30/50] Training result:      AUC: 89.91%\t Acc: 82.52%\t Loss: 4.0248%\t F1: 72.14　87.27\n",
      "[Epoch 30/50] Validation result:    AUC: 81.76%\t Acc: 77.28%\t Loss: 5.2319%\t F1: 61.80　83.83\n",
      "[Epoch 30/50] Test result:    AUC: 81.92%\t Acc: 76.34%\t Loss: 5.4491\n",
      "2022-12-09 13:24:59,763 - Deep-IRT-model-HN - INFO - \n",
      "[Epoch 31/50] Training result:      AUC: 89.90%\t Acc: 82.58%\t Loss: 4.0118%\t F1: 72.11　87.33\n",
      "[Epoch 31/50] Validation result:    AUC: 81.79%\t Acc: 76.96%\t Loss: 5.3040%\t F1: 63.27　83.22\n",
      "[Epoch 31/50] Test result:    AUC: 81.86%\t Acc: 76.27%\t Loss: 5.4638\n",
      "2022-12-09 13:25:43,398 - Deep-IRT-model-HN - INFO - \n",
      "[Epoch 32/50] Training result:      AUC: 89.62%\t Acc: 82.28%\t Loss: 4.0807%\t F1: 71.74　87.09\n",
      "[Epoch 32/50] Validation result:    AUC: 81.76%\t Acc: 77.06%\t Loss: 5.2813%\t F1: 63.29　83.32\n",
      "[Epoch 32/50] Test result:    AUC: 81.88%\t Acc: 76.26%\t Loss: 5.4668\n",
      "2022-12-09 13:26:27,357 - Deep-IRT-model-HN - INFO - \n",
      "[Epoch 33/50] Training result:      AUC: 90.09%\t Acc: 82.73%\t Loss: 3.9775%\t F1: 72.36　87.44\n",
      "[Epoch 33/50] Validation result:    AUC: 81.56%\t Acc: 77.19%\t Loss: 5.2513%\t F1: 61.69　83.77\n",
      "[Epoch 33/50] Test result:    AUC: 81.67%\t Acc: 76.14%\t Loss: 5.4932\n",
      "2022-12-09 13:27:09,413 - Deep-IRT-model-HN - INFO - \n",
      "[Epoch 34/50] Training result:      AUC: 90.01%\t Acc: 82.65%\t Loss: 3.9954%\t F1: 72.33　87.36\n",
      "[Epoch 34/50] Validation result:    AUC: 81.53%\t Acc: 77.13%\t Loss: 5.2661%\t F1: 62.07　83.63\n",
      "[Epoch 34/50] Test result:    AUC: 81.58%\t Acc: 76.22%\t Loss: 5.4757\n",
      "2022-12-09 13:27:52,311 - Deep-IRT-model-HN - INFO - \n",
      "[Epoch 35/50] Training result:      AUC: 90.31%\t Acc: 82.90%\t Loss: 3.9366%\t F1: 72.77　87.54\n",
      "[Epoch 35/50] Validation result:    AUC: 81.66%\t Acc: 77.10%\t Loss: 5.2725%\t F1: 62.21　83.57\n",
      "[Epoch 35/50] Test result:    AUC: 81.73%\t Acc: 76.30%\t Loss: 5.4572\n",
      "2022-12-09 13:28:34,403 - Deep-IRT-model-HN - INFO - \n",
      "[Epoch 36/50] Training result:      AUC: 90.51%\t Acc: 83.19%\t Loss: 3.8712%\t F1: 73.31　87.73\n",
      "[Epoch 36/50] Validation result:    AUC: 81.43%\t Acc: 76.99%\t Loss: 5.2976%\t F1: 61.95　83.51\n",
      "[Epoch 36/50] Test result:    AUC: 81.55%\t Acc: 76.18%\t Loss: 5.4858\n",
      "2022-12-09 13:29:18,821 - Deep-IRT-model-HN - INFO - \n",
      "[Epoch 37/50] Training result:      AUC: 90.49%\t Acc: 83.17%\t Loss: 3.8760%\t F1: 73.32　87.71\n",
      "[Epoch 37/50] Validation result:    AUC: 81.66%\t Acc: 76.95%\t Loss: 5.3086%\t F1: 62.90　83.28\n",
      "[Epoch 37/50] Test result:    AUC: 81.77%\t Acc: 76.09%\t Loss: 5.5063\n",
      "2022-12-09 13:30:01,946 - Deep-IRT-model-HN - INFO - \n",
      "[Epoch 38/50] Training result:      AUC: 90.62%\t Acc: 83.18%\t Loss: 3.8720%\t F1: 73.23　87.74\n",
      "[Epoch 38/50] Validation result:    AUC: 81.45%\t Acc: 76.93%\t Loss: 5.3131%\t F1: 62.42　83.35\n",
      "[Epoch 38/50] Test result:    AUC: 81.57%\t Acc: 76.22%\t Loss: 5.4754\n",
      "2022-12-09 13:30:46,758 - Deep-IRT-model-HN - INFO - \n",
      "[Epoch 39/50] Training result:      AUC: 90.71%\t Acc: 83.33%\t Loss: 3.8392%\t F1: 73.59　87.82\n",
      "[Epoch 39/50] Validation result:    AUC: 81.38%\t Acc: 76.74%\t Loss: 5.3556%\t F1: 62.51　83.14\n",
      "[Epoch 39/50] Test result:    AUC: 81.43%\t Acc: 75.81%\t Loss: 5.5694\n",
      "2022-12-09 13:31:30,693 - Deep-IRT-model-HN - INFO - \n",
      "[Epoch 40/50] Training result:      AUC: 90.86%\t Acc: 83.55%\t Loss: 3.7888%\t F1: 73.96　87.97\n",
      "[Epoch 40/50] Validation result:    AUC: 81.11%\t Acc: 76.65%\t Loss: 5.3761%\t F1: 61.80　83.19\n",
      "[Epoch 40/50] Test result:    AUC: 81.21%\t Acc: 75.76%\t Loss: 5.5825\n",
      "2022-12-09 13:32:15,530 - Deep-IRT-model-HN - INFO - \n",
      "[Epoch 41/50] Training result:      AUC: 90.83%\t Acc: 83.44%\t Loss: 3.8127%\t F1: 73.71　87.91\n",
      "[Epoch 41/50] Validation result:    AUC: 81.32%\t Acc: 76.90%\t Loss: 5.3200%\t F1: 61.20　83.55\n",
      "[Epoch 41/50] Test result:    AUC: 81.37%\t Acc: 75.92%\t Loss: 5.5454\n",
      "2022-12-09 13:32:59,719 - Deep-IRT-model-HN - INFO - \n",
      "[Epoch 42/50] Training result:      AUC: 90.96%\t Acc: 83.56%\t Loss: 3.7855%\t F1: 73.99　87.98\n",
      "[Epoch 42/50] Validation result:    AUC: 81.29%\t Acc: 76.87%\t Loss: 5.3253%\t F1: 61.84　83.41\n",
      "[Epoch 42/50] Test result:    AUC: 81.46%\t Acc: 76.07%\t Loss: 5.5094\n",
      "2022-12-09 13:33:43,169 - Deep-IRT-model-HN - INFO - \n",
      "[Epoch 43/50] Training result:      AUC: 90.95%\t Acc: 83.59%\t Loss: 3.7786%\t F1: 74.12　87.99\n",
      "[Epoch 43/50] Validation result:    AUC: 81.08%\t Acc: 76.59%\t Loss: 5.3905%\t F1: 61.36　83.21\n",
      "[Epoch 43/50] Test result:    AUC: 81.08%\t Acc: 75.85%\t Loss: 5.5613\n",
      "2022-12-09 13:34:25,484 - Deep-IRT-model-HN - INFO - \n",
      "[Epoch 44/50] Training result:      AUC: 91.10%\t Acc: 83.66%\t Loss: 3.7623%\t F1: 74.12　88.06\n",
      "[Epoch 44/50] Validation result:    AUC: 81.12%\t Acc: 76.68%\t Loss: 5.3701%\t F1: 61.66　83.24\n",
      "[Epoch 44/50] Test result:    AUC: 81.32%\t Acc: 76.11%\t Loss: 5.5009\n",
      "2022-12-09 13:35:07,189 - Deep-IRT-model-HN - INFO - \n",
      "[Epoch 45/50] Training result:      AUC: 91.30%\t Acc: 83.97%\t Loss: 3.6907%\t F1: 74.67　88.28\n",
      "[Epoch 45/50] Validation result:    AUC: 81.04%\t Acc: 76.52%\t Loss: 5.4069%\t F1: 62.67　82.87\n",
      "[Epoch 45/50] Test result:    AUC: 81.07%\t Acc: 75.66%\t Loss: 5.6054\n",
      "2022-12-09 13:35:50,067 - Deep-IRT-model-HN - INFO - \n",
      "[Epoch 46/50] Training result:      AUC: 91.46%\t Acc: 84.07%\t Loss: 3.6672%\t F1: 74.86　88.35\n",
      "[Epoch 46/50] Validation result:    AUC: 81.24%\t Acc: 76.82%\t Loss: 5.3378%\t F1: 61.98　83.33\n",
      "[Epoch 46/50] Test result:    AUC: 81.32%\t Acc: 75.84%\t Loss: 5.5628\n",
      "2022-12-09 13:36:33,026 - Deep-IRT-model-HN - INFO - \n",
      "[Epoch 47/50] Training result:      AUC: 91.53%\t Acc: 84.15%\t Loss: 3.6501%\t F1: 74.98　88.40\n",
      "[Epoch 47/50] Validation result:    AUC: 80.97%\t Acc: 76.78%\t Loss: 5.3473%\t F1: 61.01　83.46\n",
      "[Epoch 47/50] Test result:    AUC: 81.05%\t Acc: 75.72%\t Loss: 5.5914\n",
      "2022-12-09 13:37:16,857 - Deep-IRT-model-HN - INFO - \n",
      "[Epoch 48/50] Training result:      AUC: 91.53%\t Acc: 84.17%\t Loss: 3.6450%\t F1: 75.07　88.40\n",
      "[Epoch 48/50] Validation result:    AUC: 81.01%\t Acc: 76.63%\t Loss: 5.3814%\t F1: 61.32　83.26\n",
      "[Epoch 48/50] Test result:    AUC: 81.05%\t Acc: 75.68%\t Loss: 5.5992\n",
      "2022-12-09 13:38:00,500 - Deep-IRT-model-HN - INFO - \n",
      "[Epoch 49/50] Training result:      AUC: 91.64%\t Acc: 84.25%\t Loss: 3.6265%\t F1: 75.16　88.47\n",
      "[Epoch 49/50] Validation result:    AUC: 81.01%\t Acc: 76.66%\t Loss: 5.3746%\t F1: 61.82　83.19\n",
      "[Epoch 49/50] Test result:    AUC: 81.06%\t Acc: 75.87%\t Loss: 5.5551\n",
      "2022-12-09 13:38:44,321 - Deep-IRT-model-HN - INFO - \n",
      "[Epoch 50/50] Training result:      AUC: 91.79%\t Acc: 84.44%\t Loss: 3.5829%\t F1: 75.58　88.58\n",
      "[Epoch 50/50] Validation result:    AUC: 80.75%\t Acc: 75.98%\t Loss: 5.5302%\t F1: 62.14　82.41\n",
      "[Epoch 50/50] Test result:    AUC: 80.81%\t Acc: 75.35%\t Loss: 5.6750\n",
      "2022-12-09 13:38:44,322 - Deep-IRT-model-HN - INFO - Best result at epoch 19: AUC: 82.18%\t Accuracy: 77.29%\t Loss: 5.2296\t F1: 63.09///83.60\n",
      "2022-12-09 13:38:45,307 - Deep-IRT-model-HN - INFO - Cross Validation Result:\n",
      "AUC: 82.18 +/- 0.00\n",
      "Accuracy: 77.29 +/- 0.00\n",
      "Loss: 5.23 +/- 0.00\n",
      "f1_score: 63.09 +/- 0.00 /// 83.60 +/- 0.00\n",
      "\n"
     ]
    }
   ],
   "source": [
    "!python main.py --dataset assist2009_akt --gpu_num 0 --retasu_message \"RNN,32\""
   ],
   "metadata": {
    "collapsed": false,
    "pycharm": {
     "name": "#%%\n"
    }
   }
  },
  {
   "cell_type": "code",
   "execution_count": 4,
   "metadata": {
    "collapsed": true
   },
   "outputs": [
    {
     "name": "stdout",
     "output_type": "stream",
     "text": [
      "^C\n"
     ]
    }
   ],
   "source": [
    "!python main.py --dataset assist2017_akt --gpu_num 0 --retasu_message \"RNN,32\""
   ]
  },
  {
   "cell_type": "code",
   "execution_count": 5,
   "outputs": [
    {
     "name": "stdout",
     "output_type": "stream",
     "text": [
      "^C\n"
     ]
    }
   ],
   "source": [
    "!python main.py --dataset Eedi --gpu_num 0 --retasu_message \"RNN,32\""
   ],
   "metadata": {
    "collapsed": false,
    "pycharm": {
     "name": "#%%\n"
    }
   }
  },
  {
   "cell_type": "code",
   "execution_count": null,
   "outputs": [],
   "source": [],
   "metadata": {
    "collapsed": false,
    "pycharm": {
     "name": "#%%\n"
    }
   }
  },
  {
   "cell_type": "code",
   "execution_count": null,
   "outputs": [],
   "source": [
    "!python main.py --dataset assist2009_akt --gpu_num 0 --retasu_message \"RNN,64\""
   ],
   "metadata": {
    "collapsed": false,
    "pycharm": {
     "name": "#%%\n"
    }
   }
  },
  {
   "cell_type": "code",
   "execution_count": null,
   "outputs": [],
   "source": [
    "!python main.py --dataset assist2017_akt --gpu_num 0 --retasu_message \"RNN,64\""
   ],
   "metadata": {
    "collapsed": false,
    "pycharm": {
     "name": "#%%\n"
    }
   }
  },
  {
   "cell_type": "code",
   "execution_count": null,
   "outputs": [],
   "source": [
    "!python main.py --dataset Eedi --gpu_num 0 --retasu_message \"RNN,64\""
   ],
   "metadata": {
    "collapsed": false,
    "pycharm": {
     "name": "#%%\n"
    }
   }
  }
 ],
 "metadata": {
  "kernelspec": {
   "display_name": "Python 3",
   "language": "python",
   "name": "python3"
  },
  "language_info": {
   "codemirror_mode": {
    "name": "ipython",
    "version": 2
   },
   "file_extension": ".py",
   "mimetype": "text/x-python",
   "name": "python",
   "nbconvert_exporter": "python",
   "pygments_lexer": "ipython2",
   "version": "2.7.6"
  }
 },
 "nbformat": 4,
 "nbformat_minor": 0
}